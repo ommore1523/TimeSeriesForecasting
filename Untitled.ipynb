{
 "cells": [
  {
   "cell_type": "code",
   "execution_count": null,
   "id": "f213c06e",
   "metadata": {},
   "outputs": [],
   "source": [
    "%%time\n",
    "import time"
   ]
  },
  {
   "cell_type": "code",
   "execution_count": 4,
   "id": "badb91df",
   "metadata": {},
   "outputs": [
    {
     "name": "stdout",
     "output_type": "stream",
     "text": [
      "1035\n",
      "2060\n",
      "3085\n",
      "4110\n",
      "1035\n",
      "2060\n",
      "3085\n",
      "4110\n",
      "CPU times: user 6.38 ms, sys: 3.22 ms, total: 9.6 ms\n",
      "Wall time: 16 s\n"
     ]
    }
   ],
   "source": [
    "%%time\n",
    "import time\n",
    "from cachetools import cached, TTLCache\n",
    "\n",
    "cache = TTLCache(maxsize=100, ttl=30)\n",
    "\n",
    "# print(dir(cache))\n",
    "# print(cache.clear())\n",
    "\n",
    "@cached(cache)\n",
    "def add(a):\n",
    "    res =  a + 10 + a * 1024\n",
    "    time.sleep(2)\n",
    "    return res\n",
    "\n",
    "# st = time.time()\n",
    "for i in range(1,5):\n",
    "    res = add(i)\n",
    "    time.sleep(2)\n",
    "    print(res)\n",
    "    # print(cache.items)\n",
    "\n",
    "for i in range(1,5):\n",
    "    res = add(i)\n",
    "    print(res)\n",
    "\n",
    "# print(\"Total Time\",st - time.time())"
   ]
  },
  {
   "cell_type": "code",
   "execution_count": null,
   "id": "7ba2adb0",
   "metadata": {},
   "outputs": [],
   "source": [
    "# pip install cachetools"
   ]
  },
  {
   "cell_type": "code",
   "execution_count": null,
   "id": "a864a82e",
   "metadata": {},
   "outputs": [],
   "source": []
  },
  {
   "cell_type": "code",
   "execution_count": null,
   "id": "dd491647",
   "metadata": {},
   "outputs": [],
   "source": []
  }
 ],
 "metadata": {
  "kernelspec": {
   "display_name": "Python 3 (ipykernel)",
   "language": "python",
   "name": "python3"
  },
  "language_info": {
   "codemirror_mode": {
    "name": "ipython",
    "version": 3
   },
   "file_extension": ".py",
   "mimetype": "text/x-python",
   "name": "python",
   "nbconvert_exporter": "python",
   "pygments_lexer": "ipython3",
   "version": "3.7.11"
  }
 },
 "nbformat": 4,
 "nbformat_minor": 5
}
